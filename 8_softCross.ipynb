{
 "cells": [
  {
   "cell_type": "markdown",
   "metadata": {},
   "source": [
    "### Softmax"
   ]
  },
  {
   "cell_type": "code",
   "execution_count": 2,
   "metadata": {},
   "outputs": [],
   "source": [
    "import torch\n",
    "import torch.nn as nn\n",
    "import numpy as np"
   ]
  },
  {
   "cell_type": "code",
   "execution_count": 3,
   "metadata": {},
   "outputs": [
    {
     "name": "stdout",
     "output_type": "stream",
     "text": [
      "2.3170299530029297\n",
      "2.040616273880005\n"
     ]
    }
   ],
   "source": [
    "loss = nn.CrossEntropyLoss() # In this there is no need to give the softmax value\n",
    "\n",
    "y = torch.tensor([2]) # In this no need to give the position of right label\n",
    "\n",
    "first_pred = torch.tensor([[2.0, 1.0, 0.1]])\n",
    "second_pred = torch.tensor([[0.5, 2.0, 0.3]])\n",
    "\n",
    "l1 = loss(first_pred, y)\n",
    "\n",
    "l2 = loss(second_pred, y)\n",
    "\n",
    "print(l1.item())\n",
    "print(l2.item())"
   ]
  },
  {
   "cell_type": "markdown",
   "metadata": {},
   "source": [
    "Thinks to keep in mind while taking cross entropy loss\n",
    "* there is no need to give softmax value to it, it will do by its own\n",
    "* Just need to give the postion of the correct label like in variable y, we can see there is a bad cross entropy loss for both pred as it is bad\n"
   ]
  },
  {
   "cell_type": "code",
   "execution_count": 4,
   "metadata": {},
   "outputs": [
    {
     "name": "stdout",
     "output_type": "stream",
     "text": [
      "0.3018244206905365\n",
      "1.6241613626480103\n"
     ]
    }
   ],
   "source": [
    "loss = nn.CrossEntropyLoss() # In this there is no need to give the softmax value\n",
    "\n",
    "y = torch.tensor([2, 0, 1]) # In this no need to give the position of right label\n",
    "\n",
    "first_pred = torch.tensor([[0.1, 1.0, 2.1], [2.0, 1.0, 0.1], [0.1, 3.0, 0.1]])\n",
    "second_pred = torch.tensor([[2.1, 1.0, 0.1], [0.1, 1.0, 2.1], [0.1, 3.0, 0.1]])\n",
    "\n",
    "l1 = loss(first_pred, y)\n",
    "\n",
    "l2 = loss(second_pred, y)\n",
    "\n",
    "\n",
    "print(l1.item())\n",
    "print(l2.item())    "
   ]
  }
 ],
 "metadata": {
  "kernelspec": {
   "display_name": "Python 3",
   "language": "python",
   "name": "python3"
  },
  "language_info": {
   "codemirror_mode": {
    "name": "ipython",
    "version": 3
   },
   "file_extension": ".py",
   "mimetype": "text/x-python",
   "name": "python",
   "nbconvert_exporter": "python",
   "pygments_lexer": "ipython3",
   "version": "3.12.0"
  }
 },
 "nbformat": 4,
 "nbformat_minor": 2
}
