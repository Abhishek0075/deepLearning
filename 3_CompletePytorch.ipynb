{
 "cells": [
  {
   "cell_type": "code",
   "execution_count": 2,
   "metadata": {},
   "outputs": [],
   "source": [
    "import torch \n",
    "import torch.nn as nn\n",
    "from torch.optim import SGD"
   ]
  },
  {
   "cell_type": "code",
   "execution_count": 8,
   "metadata": {},
   "outputs": [
    {
     "name": "stdout",
     "output_type": "stream",
     "text": [
      "x = tensor([[1.],\n",
      "        [2.],\n",
      "        [3.],\n",
      "        [4.]]),\n",
      " y = tensor([[2.],\n",
      "        [4.],\n",
      "        [6.],\n",
      "        [8.]])\n"
     ]
    }
   ],
   "source": [
    "x = torch.tensor([1, 2, 3, 4], dtype=torch.float32)\n",
    "x = x.view(x.shape[0], -1)\n",
    "y = torch.tensor([2, 4, 6, 8], dtype=torch.float32)\n",
    "y = y.view(y.shape[0], -1)\n",
    "print(f\"x = {x},\\n y = {y}\")"
   ]
  },
  {
   "cell_type": "code",
   "execution_count": 17,
   "metadata": {},
   "outputs": [
    {
     "name": "stdout",
     "output_type": "stream",
     "text": [
      "Prediction before training: f(5) = -2.757\n",
      "epoch 1: w = -0.165, b = 0.1095602810382843, loss = 48.91210938\n",
      "epoch 51: w = 1.778, b = 0.6524819731712341, loss = 0.07154615\n",
      "epoch 101: w = 1.809, b = 0.5617016553878784, loss = 0.05301078\n",
      "epoch 151: w = 1.836, b = 0.4834999740123749, loss = 0.03927765\n",
      "epoch 201: w = 1.858, b = 0.4161858558654785, loss = 0.02910228\n",
      "epoch 251: w = 1.878, b = 0.3582434058189392, loss = 0.02156301\n",
      "epoch 301: w = 1.895, b = 0.3083677291870117, loss = 0.01597681\n",
      "epoch 351: w = 1.910, b = 0.2654359042644501, loss = 0.01183783\n",
      "epoch 401: w = 1.922, b = 0.22848115861415863, loss = 0.00877109\n",
      "epoch 451: w = 1.933, b = 0.196671262383461, loss = 0.00649882\n",
      "Prediction after training: f(5) = 9.881\n"
     ]
    }
   ],
   "source": [
    "# Model class\n",
    "class LinearRegression(nn.Module):\n",
    "    def __init__(self, input_dim, output_dim):\n",
    "        super(LinearRegression, self).__init__()\n",
    "        \n",
    "        self.lin = nn.Linear(input_dim, output_dim)\n",
    "        \n",
    "    def forward(self, x):\n",
    "        return self.lin(x)\n",
    "\n",
    "\n",
    "# Initializing training and testing data\n",
    "\n",
    "x = torch.tensor([1, 2, 3, 4], dtype=torch.float32)\n",
    "y = torch.tensor([2, 4, 6, 8], dtype=torch.float32)\n",
    "\n",
    "\n",
    "w = torch.tensor(0.0, dtype = torch.float32, requires_grad=True)\n",
    "\n",
    "x_test = torch.tensor([5], dtype=torch.float32)\n",
    "\n",
    "learning_rate = 0.01\n",
    "n_iters = 500\n",
    "\n",
    "# Reshaping for the model\n",
    "\n",
    "x = x.view(x.shape[0], -1)\n",
    "y = y.view(y.shape[0], -1)\n",
    "\n",
    "n_samples, n_features = x.shape\n",
    "\n",
    "# Initializing the model\n",
    "\n",
    "input_size = n_features\n",
    "output_size = n_features\n",
    "\n",
    "model = LinearRegression(input_size, output_size)\n",
    "\n",
    "# Initializing the loss and optimizer\n",
    "\n",
    "loss = nn.MSELoss()\n",
    "optimizer = SGD(model.parameters(), lr = learning_rate)\n",
    "\n",
    "\n",
    "# Training\n",
    "\n",
    "print(f\"Prediction before training: f(5) = {model(x_test).item():.3f}\")\n",
    "for epoch in range(n_iters):\n",
    "    y_predicted = model(x)\n",
    "    \n",
    "    l = loss(y, y_predicted)\n",
    "    \n",
    "    l.backward() # Here no need of gradient function as in numpy\n",
    "    \n",
    "    optimizer.step() # Taking next step of optimization\n",
    "    optimizer.zero_grad() # Zeroing the gradient\n",
    "    \n",
    "    if(epoch % 50 == 0):\n",
    "        [w, b] = model.parameters()\n",
    "        print(f\"epoch {epoch+1}: w = {w[0][0].item():.3f}, b = {b.item()}, loss = {l:.8f}\")\n",
    "        \n",
    "print(f\"Prediction after training: f(5) = {model(x_test).item():.3f}\")"
   ]
  }
 ],
 "metadata": {
  "kernelspec": {
   "display_name": "Python 3",
   "language": "python",
   "name": "python3"
  },
  "language_info": {
   "codemirror_mode": {
    "name": "ipython",
    "version": 3
   },
   "file_extension": ".py",
   "mimetype": "text/x-python",
   "name": "python",
   "nbconvert_exporter": "python",
   "pygments_lexer": "ipython3",
   "version": "3.12.0"
  }
 },
 "nbformat": 4,
 "nbformat_minor": 2
}
