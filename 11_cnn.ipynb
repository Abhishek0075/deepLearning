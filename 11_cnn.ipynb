{
 "cells": [
  {
   "cell_type": "code",
   "execution_count": 1,
   "metadata": {},
   "outputs": [
    {
     "name": "stderr",
     "output_type": "stream",
     "text": [
      "c:\\Users\\itsab\\AppData\\Local\\Programs\\Python\\Python312\\Lib\\site-packages\\tqdm\\auto.py:21: TqdmWarning: IProgress not found. Please update jupyter and ipywidgets. See https://ipywidgets.readthedocs.io/en/stable/user_install.html\n",
      "  from .autonotebook import tqdm as notebook_tqdm\n"
     ]
    }
   ],
   "source": [
    "import torch\n",
    "import torch.nn as nn\n",
    "import torch.nn.functional as F\n",
    "import torchvision\n",
    "import torchvision.transforms as transforms\n",
    "import matplotlib.pyplot as plt\n",
    "import numpy as np"
   ]
  },
  {
   "cell_type": "code",
   "execution_count": 2,
   "metadata": {},
   "outputs": [],
   "source": [
    "device = torch.device('cuda' if torch.cuda.is_available() else 'cpu')"
   ]
  },
  {
   "cell_type": "markdown",
   "metadata": {},
   "source": [
    "### Hyper parameters"
   ]
  },
  {
   "cell_type": "code",
   "execution_count": 3,
   "metadata": {},
   "outputs": [],
   "source": [
    "num_epochs = 5\n",
    "batch_size = 4\n",
    "learning_rate = 0.001"
   ]
  },
  {
   "cell_type": "code",
   "execution_count": 4,
   "metadata": {},
   "outputs": [],
   "source": [
    "transform = transforms.Compose(\n",
    "    [transforms.ToTensor(),\n",
    "     transforms.Normalize((0.5, 0.5, 0.5), (0.5, 0.5, 0.5))]) # This is the normalization of each dimensions of the input\n",
    "                                                              # First tuple is the mean of each dimension, second tuple is the std of each dimension"
   ]
  },
  {
   "cell_type": "code",
   "execution_count": 6,
   "metadata": {},
   "outputs": [
    {
     "name": "stdout",
     "output_type": "stream",
     "text": [
      "Downloading https://www.cs.toronto.edu/~kriz/cifar-10-python.tar.gz to ./data\\cifar-10-python.tar.gz\n"
     ]
    },
    {
     "name": "stderr",
     "output_type": "stream",
     "text": [
      "100%|██████████| 170498071/170498071 [24:28<00:00, 116082.43it/s]\n"
     ]
    },
    {
     "name": "stdout",
     "output_type": "stream",
     "text": [
      "Extracting ./data\\cifar-10-python.tar.gz to ./data\n",
      "Files already downloaded and verified\n"
     ]
    }
   ],
   "source": [
    "train_dataset = torchvision.datasets.CIFAR10(root='./data', train=True,\n",
    "                                        download=True, transform=transform)\n",
    "\n",
    "test_dataset = torchvision.datasets.CIFAR10(root='./data', train=False,\n",
    "                                       download=True, transform=transform)\n",
    "\n",
    "train_loader = torch.utils.data.DataLoader(train_dataset, batch_size=batch_size,\n",
    "                                          shuffle=True)\n",
    "\n",
    "test_loader = torch.utils.data.DataLoader(test_dataset, batch_size=batch_size,\n",
    "                                         shuffle=False) "
   ]
  },
  {
   "cell_type": "code",
   "execution_count": 18,
   "metadata": {},
   "outputs": [
    {
     "data": {
      "text/plain": [
       "['airplane',\n",
       " 'automobile',\n",
       " 'bird',\n",
       " 'cat',\n",
       " 'deer',\n",
       " 'dog',\n",
       " 'frog',\n",
       " 'horse',\n",
       " 'ship',\n",
       " 'truck']"
      ]
     },
     "execution_count": 18,
     "metadata": {},
     "output_type": "execute_result"
    }
   ],
   "source": [
    "classes = train_dataset.classes\n",
    "classes"
   ]
  },
  {
   "cell_type": "markdown",
   "metadata": {},
   "source": [
    "### Display an image"
   ]
  },
  {
   "cell_type": "code",
   "execution_count": 20,
   "metadata": {},
   "outputs": [],
   "source": [
    "def imshow(img):\n",
    "    img = img / 2 + 0.5  # unnormalize as normalization is done by new_img = ( old_img - mean ) / std \n",
    "                        # here 2 is multiplied becoz it is reciprocal of 1/2 ie 0.5\n",
    "    npimg = img.numpy()\n",
    "    plt.imshow(np.transpose(npimg, (1, 2, 0)))\n",
    "    plt.show()\n",
    "    "
   ]
  },
  {
   "cell_type": "code",
   "execution_count": 21,
   "metadata": {},
   "outputs": [
    {
     "data": {
      "image/png": "[encoded data removed]",
      "text/plain": [
       "<Figure size 640x480 with 1 Axes>"
      ]
     },
     "metadata": {},
     "output_type": "display_data"
    },
    {
     "name": "stdout",
     "output_type": "stream",
     "text": [
      " frog   cat  ship automobile\n",
      "torch.Size([4, 3, 32, 32])\n",
      "torch.Size([4])\n",
      "tensor([6, 3, 8, 1])\n"
     ]
    }
   ],
   "source": [
    "dataloader_iter = iter(train_loader)\n",
    "\n",
    "images, labels = next(dataloader_iter)\n",
    "\n",
    "# print images \n",
    "\n",
    "imshow(torchvision.utils.make_grid(images))\n",
    "print(' '.join('%5s' % classes[labels[j]] for j in range(batch_size)))\n",
    "print(images.shape)\n",
    "print(labels.shape)\n",
    "print(labels)"
   ]
  },
  {
   "cell_type": "markdown",
   "metadata": {},
   "source": [
    "### Showing the dimension change in each layers"
   ]
  },
  {
   "cell_type": "markdown",
   "metadata": {},
   "source": [
    "Just a sample layers used"
   ]
  },
  {
   "cell_type": "code",
   "execution_count": 26,
   "metadata": {},
   "outputs": [],
   "source": [
    "def dim_after_conv(input_dim, kernel_dim, padding, stride):\n",
    "    dim = (input_dim - kernel_dim + 2*padding) / stride + 1\n",
    "    return dim"
   ]
  },
  {
   "cell_type": "markdown",
   "metadata": {},
   "source": [
    "### Class for convolution neural network"
   ]
  },
  {
   "cell_type": "markdown",
   "metadata": {},
   "source": [
    "Sample of dimension change after each layers"
   ]
  },
  {
   "cell_type": "code",
   "execution_count": 39,
   "metadata": {},
   "outputs": [
    {
     "name": "stdout",
     "output_type": "stream",
     "text": [
      "Orginal image batch ( contains 4 images in each batch ) : torch.Size([4, 3, 32, 32])\n",
      "\n",
      "The dimension from the function : 28.0\n",
      "After conv1 : torch.Size([4, 6, 28, 28])\n",
      "\n",
      "When max pooling the dimension is reduced kernel_size times, here it is 2 so halved\n",
      "After pool : torch.Size([4, 6, 14, 14])\n",
      "\n",
      "The dimension from the function : 28.0\n",
      "After conv2 : torch.Size([4, 16, 10, 10])\n",
      "\n",
      "When max pooling the dimension is reduced kernel_size times, here it is 2 so halved\n",
      "After pool : torch.Size([4, 16, 5, 5])\n",
      "\n"
     ]
    }
   ],
   "source": [
    "conv1 = nn.Conv2d(3, 6, 5) # 3 input channels(RGB image), 6 output channels, 5x5 kernel\n",
    "pool = nn.MaxPool2d(2,2)\n",
    "conv2 = nn.Conv2d(6, 16, 5) # 6 input channels becoz it was the output channel of previous conv layer\n",
    "\n",
    "print(f\"Orginal image batch ( contains 4 images in each batch ) : {images.shape}\\n\")\n",
    "\n",
    "x = conv1(images)\n",
    "print(f\"The dimension from the function : {dim_after_conv(input_dim=images.shape[2], kernel_dim= 5, padding= 0, stride=1)}\")\n",
    "print(f\"After conv1 : {x.shape}\\n\")\n",
    "\n",
    "x = pool(x)\n",
    "print(\"When max pooling the dimension is reduced kernel_size times, here it is 2 so halved\")\n",
    "print(f\"After pool : {x.shape}\\n\")\n",
    "\n",
    "print(f\"The dimension from the function : {dim_after_conv(input_dim=images.shape[2], kernel_dim= 5, padding= 0, stride=1)}\")\n",
    "x = conv2(x)\n",
    "print(f\"After conv2 : {x.shape}\\n\")\n",
    "\n",
    "x = pool(x)\n",
    "print(\"When max pooling the dimension is reduced kernel_size times, here it is 2 so halved\")\n",
    "print(f\"After pool : {x.shape}\\n\")\n"
   ]
  },
  {
   "cell_type": "markdown",
   "metadata": {},
   "source": [
    "The network"
   ]
  },
  {
   "cell_type": "code",
   "execution_count": 43,
   "metadata": {},
   "outputs": [],
   "source": [
    "class ConvNet(nn.Module):\n",
    "    def __init__(self):\n",
    "        \n",
    "        super(ConvNet, self).__init__()\n",
    "        self.conv1 = nn.Conv2d(3, 6, 5) # input dimensions is 3 as it is RGB image , 6 output channels is given by us, 5 is the kernel size 5x5\n",
    "        \n",
    "        self.pool = nn.MaxPool2d(2, 2)\n",
    "        \n",
    "        self.conv2 = nn.Conv2d(6, 16, 5) # input dimensions is 6 as it is the output of previous conv layer, 16 output channels is given by us, 5 is the kernel size 5x5\n",
    "        \n",
    "        self.fc1 = nn.Linear((16 * 5 * 5), 120) # The 16 * 5 * 5 is the output of the last conv layer after pooling with 2x2 filter, \n",
    "                                                # so it is the input to the fully connected layer so it is flattened\n",
    "                                                # 120 here can be changed \n",
    "                                                \n",
    "        self.fc2 = nn.Linear(120, 84) # The 84 dimensions can be changed \n",
    "        \n",
    "        self.fc3 = nn.Linear(84, 10) # The 10 comes as there are 10 classes in the CIFAR10 dataset\n",
    "\n",
    "    def forward(self, x):\n",
    "        # 1st conv and pooling \n",
    "        afterConv1 = self.conv1(x)\n",
    "        x = self.pool(F.relu(afterConv1))  # -> n, 6, 14, 14\n",
    "        \n",
    "        # 2nd conv and pooling\n",
    "        afterConv2 = self.conv2(x)\n",
    "        x = self.pool(F.relu(afterConv2))  # -> n, 16, 5, 5\n",
    "        \n",
    "        # Flattening\n",
    "        x = x.view(-1, 16 * 5 * 5)  # -> n, 400\n",
    "        \n",
    "        afterFc1 = self.fc1(x)\n",
    "        x = F.relu(afterFc1)  # -> n, 120\n",
    "        \n",
    "        afterFc2 = self.fc2(x)\n",
    "        x = F.relu(afterFc2)  # -> n, 84\n",
    "        \n",
    "        x = self.fc3(x)  # -> n, 10\n",
    "        \n",
    "        return x\n"
   ]
  },
  {
   "cell_type": "code",
   "execution_count": 44,
   "metadata": {},
   "outputs": [],
   "source": [
    "model = ConvNet().to(device)\n",
    "\n",
    "criterion = nn.CrossEntropyLoss()\n",
    "optimizer = torch.optim.SGD(model.parameters(), lr=learning_rate)"
   ]
  },
  {
   "cell_type": "code",
   "execution_count": 45,
   "metadata": {},
   "outputs": [
    {
     "name": "stdout",
     "output_type": "stream",
     "text": [
      "Epoch [1/5], Step [2000/12500], Loss: 2.3413\n",
      "Epoch [1/5], Step [4000/12500], Loss: 2.3284\n",
      "Epoch [1/5], Step [6000/12500], Loss: 2.2935\n",
      "Epoch [1/5], Step [8000/12500], Loss: 2.3101\n",
      "Epoch [1/5], Step [10000/12500], Loss: 2.2340\n",
      "Epoch [1/5], Step [12000/12500], Loss: 2.3416\n",
      "Epoch [2/5], Step [2000/12500], Loss: 2.3513\n",
      "Epoch [2/5], Step [4000/12500], Loss: 1.9827\n",
      "Epoch [2/5], Step [6000/12500], Loss: 1.8122\n",
      "Epoch [2/5], Step [8000/12500], Loss: 1.3245\n",
      "Epoch [2/5], Step [10000/12500], Loss: 1.5886\n",
      "Epoch [2/5], Step [12000/12500], Loss: 2.0063\n",
      "Epoch [3/5], Step [2000/12500], Loss: 1.5455\n",
      "Epoch [3/5], Step [4000/12500], Loss: 1.4023\n",
      "Epoch [3/5], Step [6000/12500], Loss: 2.7967\n",
      "Epoch [3/5], Step [8000/12500], Loss: 1.6633\n",
      "Epoch [3/5], Step [10000/12500], Loss: 2.5286\n",
      "Epoch [3/5], Step [12000/12500], Loss: 2.1219\n",
      "Epoch [4/5], Step [2000/12500], Loss: 1.3825\n",
      "Epoch [4/5], Step [4000/12500], Loss: 1.0685\n",
      "Epoch [4/5], Step [6000/12500], Loss: 1.8445\n",
      "Epoch [4/5], Step [8000/12500], Loss: 0.5716\n",
      "Epoch [4/5], Step [10000/12500], Loss: 1.2243\n",
      "Epoch [4/5], Step [12000/12500], Loss: 1.0574\n",
      "Epoch [5/5], Step [2000/12500], Loss: 2.7356\n",
      "Epoch [5/5], Step [4000/12500], Loss: 1.2986\n",
      "Epoch [5/5], Step [6000/12500], Loss: 1.2535\n",
      "Epoch [5/5], Step [8000/12500], Loss: 0.9970\n",
      "Epoch [5/5], Step [10000/12500], Loss: 1.4562\n",
      "Epoch [5/5], Step [12000/12500], Loss: 1.0024\n",
      "Finished Training\n"
     ]
    }
   ],
   "source": [
    "n_total_steps = len(train_loader)\n",
    "for epoch in range(num_epochs):\n",
    "    for i, (images, labels) in enumerate(train_loader):\n",
    "        # origin shape: [4, 3, 32, 32] = 4, 3, 1024\n",
    "        # input_layer: 3 input channels, 6 output channels, 5 kernel size\n",
    "        images = images.to(device)\n",
    "        labels = labels.to(device)\n",
    "\n",
    "        # Forward pass\n",
    "        outputs = model(images)\n",
    "        loss = criterion(outputs, labels)\n",
    "\n",
    "        # Backward and optimize\n",
    "        optimizer.zero_grad()\n",
    "        loss.backward()\n",
    "        optimizer.step()\n",
    "\n",
    "        if (i+1) % 2000 == 0:\n",
    "            print (f'Epoch [{epoch+1}/{num_epochs}], Step [{i+1}/{n_total_steps}], Loss: {loss.item():.4f}')\n",
    "\n",
    "print('Finished Training')\n",
    "    "
   ]
  },
  {
   "cell_type": "code",
   "execution_count": 46,
   "metadata": {},
   "outputs": [
    {
     "name": "stdout",
     "output_type": "stream",
     "text": [
      "Accuracy of the network: 49.94 %\n",
      "Accuracy of airplane: 59.1 %\n",
      "Accuracy of automobile: 74.0 %\n",
      "Accuracy of bird: 28.7 %\n",
      "Accuracy of cat: 37.6 %\n",
      "Accuracy of deer: 43.0 %\n",
      "Accuracy of dog: 37.7 %\n",
      "Accuracy of frog: 58.0 %\n",
      "Accuracy of horse: 60.2 %\n",
      "Accuracy of ship: 52.6 %\n",
      "Accuracy of truck: 48.5 %\n"
     ]
    }
   ],
   "source": [
    "with torch.no_grad():\n",
    "    n_correct = 0\n",
    "    n_samples = 0\n",
    "    n_class_correct = [0 for i in range(10)]\n",
    "    n_class_samples = [0 for i in range(10)]\n",
    "    for images, labels in test_loader:\n",
    "        images = images.to(device)\n",
    "        labels = labels.to(device)\n",
    "        outputs = model(images)\n",
    "        # max returns (value ,index)\n",
    "        _, predicted = torch.max(outputs, 1)\n",
    "        n_samples += labels.size(0)\n",
    "        n_correct += (predicted == labels).sum().item()\n",
    "        \n",
    "        for i in range(batch_size):\n",
    "            label = labels[i]\n",
    "            pred = predicted[i]\n",
    "            if (label == pred):\n",
    "                n_class_correct[label] += 1\n",
    "            n_class_samples[label] += 1\n",
    "\n",
    "    acc = 100.0 * n_correct / n_samples\n",
    "    print(f'Accuracy of the network: {acc} %')\n",
    "\n",
    "    for i in range(10):\n",
    "        acc = 100.0 * n_class_correct[i] / n_class_samples[i]\n",
    "        print(f'Accuracy of {classes[i]}: {acc} %')"
   ]
  }
 ],
 "metadata": {
  "kernelspec": {
   "display_name": "Python 3",
   "language": "python",
   "name": "python3"
  },
  "language_info": {
   "codemirror_mode": {
    "name": "ipython",
    "version": 3
   },
   "file_extension": ".py",
   "mimetype": "text/x-python",
   "name": "python",
   "nbconvert_exporter": "python",
   "pygments_lexer": "ipython3",
   "version": "3.12.0"
  }
 },
 "nbformat": 4,
 "nbformat_minor": 2
}
