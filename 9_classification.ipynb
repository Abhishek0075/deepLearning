{
 "cells": [
  {
   "cell_type": "markdown",
   "metadata": {},
   "source": [
    "## Multiclass classification"
   ]
  },
  {
   "cell_type": "code",
   "execution_count": 1,
   "metadata": {},
   "outputs": [
    {
     "name": "stdout",
     "output_type": "stream",
     "text": [
      "Output of the model: \n",
      "tensor([[ 0.2189,  0.2154, -0.7397],\n",
      "        [ 0.3125,  0.3427, -0.4964],\n",
      "        [ 0.4317,  0.3027, -0.8587],\n",
      "        [-0.0992,  0.5145, -0.3643]], grad_fn=<AddmmBackward0>)\n",
      "Loss: 1.1181395053863525\n"
     ]
    }
   ],
   "source": [
    "import torch \n",
    "import torch.nn as nn\n",
    "\n",
    "class NeuralNet(nn.Module):\n",
    "    def __init__(self, input_size, hidden_size, num_classes):\n",
    "        super(NeuralNet, self).__init__()\n",
    "        self.linear1 = nn.Linear(input_size, hidden_size)\n",
    "        self.relu = nn.ReLU()\n",
    "        self.linear2 = nn.Linear(hidden_size, num_classes)\n",
    "        \n",
    "    def forward(self, x):\n",
    "        out = self.linear1(x)\n",
    "        \n",
    "        out = self.relu(out)\n",
    "        \n",
    "        out = self.linear2(out)\n",
    "        \n",
    "        return out\n",
    "    \n",
    "model = NeuralNet(input_size = 28*28 , hidden_size = 5, num_classes = 3)\n",
    "criterion = nn.CrossEntropyLoss()\n",
    "\n",
    "\n",
    "    "
   ]
  },
  {
   "cell_type": "markdown",
   "metadata": {},
   "source": [
    "## Binary classification"
   ]
  },
  {
   "cell_type": "code",
   "execution_count": null,
   "metadata": {},
   "outputs": [],
   "source": [
    "import torch \n",
    "import torch.nn as nn\n",
    "\n",
    "class NeuralNet(nn.Module):\n",
    "    def __init__(self, input_size, hidden_size):\n",
    "        super(NeuralNet, self).__init__()\n",
    "        self.linear1 = nn.Linear(input_size, hidden_size) # Applies linear transformation to input y = xA^T + b\n",
    "        self.relu = nn.ReLU()\n",
    "        self.linear2 = nn.Linear(hidden_size, 1) # There will only be one output\n",
    "        self.sigmoid = nn.Sigmoid()\n",
    "        \n",
    "    def forward(self, x):\n",
    "        out = self.linear1(x)\n",
    "        \n",
    "        out = self.relu(out)\n",
    "        \n",
    "        out = self.linear2(out)\n",
    "        \n",
    "        y_pred = self.sigmoid(out)\n",
    "        \n",
    "        return y_pred\n",
    "    \n",
    "model = NeuralNet(input_size = 28*28 , hidden_size = 5)\n",
    "criterion = nn.BCELoss()\n"
   ]
  }
 ],
 "metadata": {
  "kernelspec": {
   "display_name": "Python 3",
   "language": "python",
   "name": "python3"
  },
  "language_info": {
   "codemirror_mode": {
    "name": "ipython",
    "version": 3
   },
   "file_extension": ".py",
   "mimetype": "text/x-python",
   "name": "python",
   "nbconvert_exporter": "python",
   "pygments_lexer": "ipython3",
   "version": "3.12.0"
  }
 },
 "nbformat": 4,
 "nbformat_minor": 2
}
