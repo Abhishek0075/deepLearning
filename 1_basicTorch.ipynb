{
 "cells": [
  {
   "cell_type": "markdown",
   "metadata": {},
   "source": [
    "## Create random number tensor"
   ]
  },
  {
   "cell_type": "code",
   "execution_count": 1,
   "metadata": {},
   "outputs": [],
   "source": [
    "import torch"
   ]
  },
  {
   "cell_type": "code",
   "execution_count": 2,
   "metadata": {},
   "outputs": [
    {
     "name": "stdout",
     "output_type": "stream",
     "text": [
      "tensor([[0.2568, 0.8963, 0.5467],\n",
      "        [0.3213, 0.6231, 0.3522],\n",
      "        [0.2862, 0.3822, 0.4310],\n",
      "        [0.4779, 0.0072, 0.8374],\n",
      "        [0.3526, 0.9407, 0.7372]])\n",
      "tensor(0.6231)\n"
     ]
    }
   ],
   "source": [
    "x = torch.rand(5, 3)\n",
    "print(x)\n",
    "print(x[1,1])"
   ]
  },
  {
   "cell_type": "markdown",
   "metadata": {},
   "source": [
    "## Reshape the tensor"
   ]
  },
  {
   "cell_type": "code",
   "execution_count": 5,
   "metadata": {},
   "outputs": [
    {
     "name": "stdout",
     "output_type": "stream",
     "text": [
      "tensor([[0.9566, 0.4465, 0.2288, 0.6954, 0.6496, 0.6145, 0.7492, 0.1927],\n",
      "        [0.0974, 0.2249, 0.4028, 0.7429, 0.3074, 0.6719, 0.8175, 0.4792]])\n"
     ]
    }
   ],
   "source": [
    "x = torch.rand(4,4)\n",
    "y = x.view(-1,8) # -1 means the size is inferred from other dimensions, here 8\n",
    "print(y)"
   ]
  },
  {
   "cell_type": "markdown",
   "metadata": {},
   "source": [
    "## Tensor to numpy"
   ]
  },
  {
   "cell_type": "code",
   "execution_count": 17,
   "metadata": {},
   "outputs": [
    {
     "name": "stdout",
     "output_type": "stream",
     "text": [
      "tensor([1., 1., 1., 1., 1.])\n",
      "[1. 1. 1. 1. 1.] data type = <class 'numpy.ndarray'>\n"
     ]
    }
   ],
   "source": [
    "import numpy as np\n",
    "\n",
    "a = torch.ones(5)\n",
    "print(a)\n",
    "\n",
    "b = a.numpy()\n",
    "print(f\"{b} data type = {type(b)}\")"
   ]
  },
  {
   "cell_type": "code",
   "execution_count": 19,
   "metadata": {},
   "outputs": [
    {
     "name": "stdout",
     "output_type": "stream",
     "text": [
      "Before change a = tensor([1., 1., 2., 1., 1.])\n",
      "After change a = tensor([1., 1., 3., 1., 1.])\n"
     ]
    }
   ],
   "source": [
    "# As the b is numpy version of a and if we made any inplace change ie when we make change to same memory\n",
    "# location then the a will also be changed\n",
    "print(f\"Before change a = {a}\")\n",
    "a[2] = a[2]+1\n",
    "print(f\"After change a = {a}\")"
   ]
  }
 ],
 "metadata": {
  "kernelspec": {
   "display_name": "Python 3",
   "language": "python",
   "name": "python3"
  },
  "language_info": {
   "codemirror_mode": {
    "name": "ipython",
    "version": 3
   },
   "file_extension": ".py",
   "mimetype": "text/x-python",
   "name": "python",
   "nbconvert_exporter": "python",
   "pygments_lexer": "ipython3",
   "version": "3.12.0"
  }
 },
 "nbformat": 4,
 "nbformat_minor": 2
}
