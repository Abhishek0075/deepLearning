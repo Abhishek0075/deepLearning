{
 "cells": [
  {
   "cell_type": "markdown",
   "metadata": {},
   "source": [
    "## Here there isneed of finding gradient for optimization "
   ]
  },
  {
   "cell_type": "code",
   "execution_count": 15,
   "metadata": {},
   "outputs": [
    {
     "name": "stdout",
     "output_type": "stream",
     "text": [
      "tensor([-0.8525, -0.6867, -0.5735], requires_grad=True)\n"
     ]
    }
   ],
   "source": [
    "import torch\n",
    "\n",
    "x = torch.randn(3, requires_grad=True)\n",
    "print(x)"
   ]
  },
  {
   "cell_type": "code",
   "execution_count": 16,
   "metadata": {},
   "outputs": [
    {
     "name": "stdout",
     "output_type": "stream",
     "text": [
      "tensor([1.1475, 1.3133, 1.4265], grad_fn=<AddBackward0>)\n"
     ]
    }
   ],
   "source": [
    "y = x +2\n",
    "print(y)"
   ]
  },
  {
   "cell_type": "markdown",
   "metadata": {},
   "source": [
    "Here there is gradient function addBackward"
   ]
  },
  {
   "cell_type": "code",
   "execution_count": 17,
   "metadata": {},
   "outputs": [
    {
     "data": {
      "text/plain": [
       "tensor([-2.8525, -2.6867, -2.5735], grad_fn=<SubBackward0>)"
      ]
     },
     "execution_count": 17,
     "metadata": {},
     "output_type": "execute_result"
    }
   ],
   "source": [
    "y = x - 2 \n",
    "y"
   ]
  },
  {
   "cell_type": "markdown",
   "metadata": {},
   "source": [
    "Here there is gradient function subtractBackward"
   ]
  },
  {
   "cell_type": "code",
   "execution_count": 18,
   "metadata": {},
   "outputs": [
    {
     "data": {
      "text/plain": [
       "tensor(-0.7042, grad_fn=<MeanBackward0>)"
      ]
     },
     "execution_count": 18,
     "metadata": {},
     "output_type": "execute_result"
    }
   ],
   "source": [
    "z = x.mean()\n",
    "z"
   ]
  },
  {
   "cell_type": "markdown",
   "metadata": {},
   "source": [
    "When backward() is called it will do the optimization of the gradient function ie grad_fn mentioned in the value ie example grad_fn=<SubBackward0>"
   ]
  },
  {
   "cell_type": "code",
   "execution_count": 21,
   "metadata": {},
   "outputs": [
    {
     "data": {
      "text/plain": [
       "tensor([-2.8525, -2.6867, -2.5735], grad_fn=<SubBackward0>)"
      ]
     },
     "execution_count": 21,
     "metadata": {},
     "output_type": "execute_result"
    }
   ],
   "source": [
    "vector = torch.tensor([0.1, 1.0, 0.001], dtype = torch.float32)\n",
    "y.backward(vector)\n",
    "y"
   ]
  },
  {
   "cell_type": "code",
   "execution_count": 22,
   "metadata": {},
   "outputs": [
    {
     "data": {
      "text/plain": [
       "tensor(-0.7042, grad_fn=<MeanBackward0>)"
      ]
     },
     "execution_count": 22,
     "metadata": {},
     "output_type": "execute_result"
    }
   ],
   "source": [
    "z.backward()\n",
    "z"
   ]
  },
  {
   "cell_type": "markdown",
   "metadata": {},
   "source": [
    "Usually when backward() is called the Jacobian vector multiplication is being taken place\n",
    "So when we run z.backward(), z should be a scalar value, if not then we should give a vector\n",
    "Suppose you have a neural network \n",
    "𝑓\n",
    "𝜃\n",
    "(\n",
    "𝑥\n",
    ")\n",
    "f \n",
    "θ\n",
    "​\n",
    " (x) parameterized by \n",
    "𝜃\n",
    "θ, where \n",
    "𝑥\n",
    "x is the input data and \n",
    "𝜃\n",
    "θ are the model parameters. To compute gradients efficiently, you might compute the Jacobian-vector product \n",
    "𝐽\n",
    "𝑓\n",
    "𝜃\n",
    "(\n",
    "𝑥\n",
    ")\n",
    "⋅\n",
    "𝑣\n",
    ", where \n",
    "𝑣\n",
    "v is a vector representing the direction in parameter space you want to compute the effect of the function \n",
    "𝑓\n",
    "𝜃\n",
    "\n",
    "​"
   ]
  },
  {
   "cell_type": "markdown",
   "metadata": {},
   "source": [
    "## After finding optimization we need to end the value optimziation so we need to do it by : "
   ]
  },
  {
   "cell_type": "markdown",
   "metadata": {},
   "source": [
    "Method 1 : x.detach()"
   ]
  },
  {
   "cell_type": "code",
   "execution_count": 24,
   "metadata": {},
   "outputs": [
    {
     "data": {
      "text/plain": [
       "tensor(-0.7042)"
      ]
     },
     "execution_count": 24,
     "metadata": {},
     "output_type": "execute_result"
    }
   ],
   "source": [
    "removed = z.detach()\n",
    "removed"
   ]
  },
  {
   "cell_type": "markdown",
   "metadata": {},
   "source": [
    "Method 2 : x.requires_grad_(False)"
   ]
  },
  {
   "cell_type": "code",
   "execution_count": 26,
   "metadata": {},
   "outputs": [
    {
     "data": {
      "text/plain": [
       "tensor([-0.8525, -0.6867, -0.5735])"
      ]
     },
     "execution_count": 26,
     "metadata": {},
     "output_type": "execute_result"
    }
   ],
   "source": [
    "x.requires_grad_(False)\n",
    "x"
   ]
  },
  {
   "cell_type": "markdown",
   "metadata": {},
   "source": [
    "## Need to reset the gradient while in Gradient optimization"
   ]
  },
  {
   "cell_type": "code",
   "execution_count": 29,
   "metadata": {},
   "outputs": [
    {
     "name": "stdout",
     "output_type": "stream",
     "text": [
      "At the beginning of iteration : None\n",
      "At the end of iteration : tensor([3., 3., 3., 3.])\n",
      "At the beginning of iteration : tensor([3., 3., 3., 3.])\n",
      "At the end of iteration : tensor([6., 6., 6., 6.])\n",
      "At the beginning of iteration : tensor([6., 6., 6., 6.])\n",
      "At the end of iteration : tensor([9., 9., 9., 9.])\n"
     ]
    }
   ],
   "source": [
    "import torch \n",
    "\n",
    "weights = torch.ones(4, requires_grad=True)\n",
    "\n",
    "for epoch in range(3):\n",
    "    print(f\"At the beginning of iteration : {weights.grad}\")\n",
    "    model_output = (weights*3).sum()\n",
    "    model_output.backward()\n",
    "    print(f\"At the end of iteration : {weights.grad}\")"
   ]
  },
  {
   "cell_type": "markdown",
   "metadata": {},
   "source": [
    "Here the gradient is being accumulated on each iteration so we need to reset it to zero"
   ]
  },
  {
   "cell_type": "code",
   "execution_count": 32,
   "metadata": {},
   "outputs": [
    {
     "name": "stdout",
     "output_type": "stream",
     "text": [
      "At the beginning of iteration : None\n",
      "At the end of iteration : tensor([3., 3., 3., 3.])\n",
      "At the beginning of iteration : tensor([0., 0., 0., 0.])\n",
      "At the end of iteration : tensor([3., 3., 3., 3.])\n",
      "At the beginning of iteration : tensor([0., 0., 0., 0.])\n",
      "At the end of iteration : tensor([3., 3., 3., 3.])\n"
     ]
    }
   ],
   "source": [
    "import torch \n",
    "\n",
    "weights = torch.ones(4, requires_grad=True)\n",
    "\n",
    "for epoch in range(3):\n",
    "    print(f\"At the beginning of iteration : {weights.grad}\")\n",
    "    model_output = (weights*3).sum()\n",
    "    model_output.backward()\n",
    "    print(f\"At the end of iteration : {weights.grad}\")\n",
    "    weights.grad.zero_()"
   ]
  },
  {
   "cell_type": "code",
   "execution_count": 42,
   "metadata": {},
   "outputs": [
    {
     "name": "stdout",
     "output_type": "stream",
     "text": [
      "tensor(1., grad_fn=<PowBackward0>)\n",
      "gradient = -2.0 weight = 1.0\n",
      "After step weight = 1.100000023841858\n",
      "tensor(0.8100, grad_fn=<PowBackward0>)\n",
      "gradient = -1.7999999523162842 weight = 1.100000023841858\n",
      "After step weight = 1.190000057220459\n",
      "tensor(0.6561, grad_fn=<PowBackward0>)\n",
      "gradient = -1.619999885559082 weight = 1.190000057220459\n",
      "After step weight = 1.2710000276565552\n",
      "tensor(0.5314, grad_fn=<PowBackward0>)\n",
      "gradient = -1.4579999446868896 weight = 1.2710000276565552\n",
      "After step weight = 1.3438999652862549\n"
     ]
    }
   ],
   "source": [
    "import torch \n",
    "from torch.optim import SGD\n",
    "\n",
    "x = torch.tensor(1.0)\n",
    "y = torch.tensor(2.0)\n",
    "\n",
    "w = torch.tensor(1.0, requires_grad=True)\n",
    "optimizer = SGD([w], lr=0.05)\n",
    "\n",
    "for epoch in range(4):\n",
    "    y_hat = w * x\n",
    "    loss = (y_hat - y)**2\n",
    "\n",
    "    print(loss)\n",
    "\n",
    "    loss.backward()\n",
    "\n",
    "    print(f\"Gradient = {w.grad} , Weight = {w}\")\n",
    "\n",
    "    optimizer.step()\n",
    "    print(f\"After step weight = {w}\")\n",
    "    optimizer.zero_grad()\n"
   ]
  },
  {
   "cell_type": "markdown",
   "metadata": {},
   "source": [
    "## Small optimization"
   ]
  },
  {
   "cell_type": "markdown",
   "metadata": {},
   "source": [
    "### Using numpy"
   ]
  },
  {
   "cell_type": "code",
   "execution_count": 45,
   "metadata": {},
   "outputs": [
    {
     "name": "stdout",
     "output_type": "stream",
     "text": [
      "Prediction before training: f(5) = 0.000\n",
      "epoch 1: w = 1.200, loss = 30.00000000\n",
      "epoch 2: w = 1.680, loss = 4.79999924\n",
      "epoch 3: w = 1.872, loss = 0.76800019\n",
      "epoch 4: w = 1.949, loss = 0.12288000\n",
      "epoch 5: w = 1.980, loss = 0.01966083\n",
      "epoch 6: w = 1.992, loss = 0.00314574\n",
      "epoch 7: w = 1.997, loss = 0.00050331\n",
      "epoch 8: w = 1.999, loss = 0.00008053\n",
      "epoch 9: w = 1.999, loss = 0.00001288\n",
      "epoch 10: w = 2.000, loss = 0.00000206\n",
      "epoch 11: w = 2.000, loss = 0.00000033\n",
      "epoch 12: w = 2.000, loss = 0.00000005\n",
      "Prediction after training: f(5) = 10.000\n"
     ]
    }
   ],
   "source": [
    "import numpy as np\n",
    "\n",
    "x = np.array([1, 2, 3, 4], dtype=np.float32)\n",
    "y = np.array([2, 4, 6, 8], dtype=np.float32)\n",
    "\n",
    "w = 0.0\n",
    "\n",
    "def forward(x):\n",
    "    return w*x\n",
    "\n",
    "def loss(y, y_predicted):\n",
    "    return ((y_predicted - y)**2).mean()\n",
    "\n",
    "# gradient\n",
    "# MSE = 1/N * (w*x - y)**2\n",
    "# d3/dw = 1/N * 2x(w*x - y)\n",
    "def gradient(x, y, y_predicted):\n",
    "    return np.dot(2*x, y_predicted - y).mean()\n",
    "\n",
    "print(f\"Prediction before training: f(5) = {forward(5):.3f}\")\n",
    "\n",
    "# Training\n",
    "\n",
    "learning_rate = 0.01\n",
    "n_iters = 12\n",
    "\n",
    "for epoch in range(n_iters):\n",
    "    y_predicted = forward(x)\n",
    "    l = loss(y, y_predicted)\n",
    "    dw = gradient(x, y, y_predicted)\n",
    "    \n",
    "    w -= learning_rate * dw\n",
    "    \n",
    "    if(epoch % 1 == 0):\n",
    "        print(f\"epoch {epoch+1}: w = {w:.3f}, loss = {l:.8f}\")\n",
    "        \n",
    "print(f\"Prediction after training: f(5) = {forward( 5):.3f}\")"
   ]
  },
  {
   "cell_type": "markdown",
   "metadata": {},
   "source": [
    "### Using pytorch"
   ]
  },
  {
   "cell_type": "code",
   "execution_count": 55,
   "metadata": {},
   "outputs": [
    {
     "name": "stdout",
     "output_type": "stream",
     "text": [
      "Prediction before training: f(5) = 0.000\n",
      "epoch 1: w = 0.300, loss = 30.00000000\n",
      "epoch 2: w = 0.555, loss = 21.67499924\n",
      "epoch 3: w = 0.772, loss = 15.66018772\n",
      "epoch 4: w = 0.956, loss = 11.31448650\n",
      "epoch 5: w = 1.113, loss = 8.17471695\n",
      "epoch 6: w = 1.246, loss = 5.90623236\n",
      "epoch 7: w = 1.359, loss = 4.26725292\n",
      "epoch 8: w = 1.455, loss = 3.08308983\n",
      "epoch 9: w = 1.537, loss = 2.22753215\n",
      "epoch 10: w = 1.606, loss = 1.60939169\n",
      "epoch 11: w = 1.665, loss = 1.16278565\n",
      "epoch 12: w = 1.716, loss = 0.84011245\n",
      "epoch 13: w = 1.758, loss = 0.60698116\n",
      "epoch 14: w = 1.794, loss = 0.43854395\n",
      "epoch 15: w = 1.825, loss = 0.31684780\n",
      "epoch 16: w = 1.851, loss = 0.22892261\n",
      "epoch 17: w = 1.874, loss = 0.16539653\n",
      "epoch 18: w = 1.893, loss = 0.11949898\n",
      "epoch 19: w = 1.909, loss = 0.08633806\n",
      "epoch 20: w = 1.922, loss = 0.06237914\n",
      "epoch 21: w = 1.934, loss = 0.04506890\n",
      "epoch 22: w = 1.944, loss = 0.03256231\n",
      "epoch 23: w = 1.952, loss = 0.02352631\n",
      "epoch 24: w = 1.960, loss = 0.01699772\n",
      "epoch 25: w = 1.966, loss = 0.01228084\n",
      "epoch 26: w = 1.971, loss = 0.00887291\n",
      "epoch 27: w = 1.975, loss = 0.00641066\n",
      "epoch 28: w = 1.979, loss = 0.00463169\n",
      "epoch 29: w = 1.982, loss = 0.00334642\n",
      "epoch 30: w = 1.985, loss = 0.00241778\n",
      "epoch 31: w = 1.987, loss = 0.00174685\n",
      "epoch 32: w = 1.989, loss = 0.00126211\n",
      "epoch 33: w = 1.991, loss = 0.00091188\n",
      "epoch 34: w = 1.992, loss = 0.00065882\n",
      "epoch 35: w = 1.993, loss = 0.00047601\n",
      "epoch 36: w = 1.994, loss = 0.00034392\n",
      "epoch 37: w = 1.995, loss = 0.00024848\n",
      "epoch 38: w = 1.996, loss = 0.00017952\n",
      "epoch 39: w = 1.996, loss = 0.00012971\n",
      "epoch 40: w = 1.997, loss = 0.00009371\n",
      "epoch 41: w = 1.997, loss = 0.00006770\n",
      "epoch 42: w = 1.998, loss = 0.00004891\n",
      "epoch 43: w = 1.998, loss = 0.00003534\n",
      "epoch 44: w = 1.998, loss = 0.00002553\n",
      "epoch 45: w = 1.999, loss = 0.00001845\n",
      "epoch 46: w = 1.999, loss = 0.00001333\n",
      "epoch 47: w = 1.999, loss = 0.00000963\n",
      "epoch 48: w = 1.999, loss = 0.00000696\n",
      "epoch 49: w = 1.999, loss = 0.00000503\n",
      "epoch 50: w = 1.999, loss = 0.00000363\n",
      "epoch 51: w = 1.999, loss = 0.00000262\n",
      "epoch 52: w = 2.000, loss = 0.00000190\n",
      "epoch 53: w = 2.000, loss = 0.00000137\n",
      "epoch 54: w = 2.000, loss = 0.00000099\n",
      "epoch 55: w = 2.000, loss = 0.00000071\n",
      "epoch 56: w = 2.000, loss = 0.00000052\n",
      "epoch 57: w = 2.000, loss = 0.00000037\n",
      "epoch 58: w = 2.000, loss = 0.00000027\n",
      "epoch 59: w = 2.000, loss = 0.00000019\n",
      "epoch 60: w = 2.000, loss = 0.00000014\n",
      "epoch 61: w = 2.000, loss = 0.00000010\n",
      "epoch 62: w = 2.000, loss = 0.00000007\n",
      "epoch 63: w = 2.000, loss = 0.00000005\n",
      "epoch 64: w = 2.000, loss = 0.00000004\n",
      "epoch 65: w = 2.000, loss = 0.00000003\n",
      "epoch 66: w = 2.000, loss = 0.00000002\n",
      "epoch 67: w = 2.000, loss = 0.00000001\n",
      "epoch 68: w = 2.000, loss = 0.00000001\n",
      "epoch 69: w = 2.000, loss = 0.00000001\n",
      "epoch 70: w = 2.000, loss = 0.00000001\n",
      "epoch 71: w = 2.000, loss = 0.00000000\n",
      "epoch 72: w = 2.000, loss = 0.00000000\n",
      "epoch 73: w = 2.000, loss = 0.00000000\n",
      "epoch 74: w = 2.000, loss = 0.00000000\n",
      "epoch 75: w = 2.000, loss = 0.00000000\n",
      "epoch 76: w = 2.000, loss = 0.00000000\n",
      "epoch 77: w = 2.000, loss = 0.00000000\n",
      "epoch 78: w = 2.000, loss = 0.00000000\n",
      "epoch 79: w = 2.000, loss = 0.00000000\n",
      "epoch 80: w = 2.000, loss = 0.00000000\n",
      "epoch 81: w = 2.000, loss = 0.00000000\n",
      "epoch 82: w = 2.000, loss = 0.00000000\n",
      "epoch 83: w = 2.000, loss = 0.00000000\n",
      "epoch 84: w = 2.000, loss = 0.00000000\n",
      "epoch 85: w = 2.000, loss = 0.00000000\n",
      "epoch 86: w = 2.000, loss = 0.00000000\n",
      "epoch 87: w = 2.000, loss = 0.00000000\n",
      "epoch 88: w = 2.000, loss = 0.00000000\n",
      "epoch 89: w = 2.000, loss = 0.00000000\n",
      "epoch 90: w = 2.000, loss = 0.00000000\n",
      "epoch 91: w = 2.000, loss = 0.00000000\n",
      "epoch 92: w = 2.000, loss = 0.00000000\n",
      "epoch 93: w = 2.000, loss = 0.00000000\n",
      "epoch 94: w = 2.000, loss = 0.00000000\n",
      "epoch 95: w = 2.000, loss = 0.00000000\n",
      "epoch 96: w = 2.000, loss = 0.00000000\n",
      "epoch 97: w = 2.000, loss = 0.00000000\n",
      "epoch 98: w = 2.000, loss = 0.00000000\n",
      "epoch 99: w = 2.000, loss = 0.00000000\n",
      "epoch 100: w = 2.000, loss = 0.00000000\n",
      "Prediction after training: f(5) = 10.000\n"
     ]
    }
   ],
   "source": [
    "import torch\n",
    "\n",
    "x = torch.tensor([1, 2, 3, 4], dtype=torch.float32)\n",
    "y = torch.tensor([2, 4, 6, 8], dtype=torch.float32)\n",
    "\n",
    "w = torch.tensor(0.0, dtype = torch.float32, requires_grad=True)\n",
    "\n",
    "def forward(x):\n",
    "    return w*x\n",
    "\n",
    "def loss(y, y_predicted):\n",
    "    return ((y_predicted - y)**2).mean()\n",
    "\n",
    "print(f\"Prediction before training: f(5) = {forward(5):.3f}\")\n",
    "\n",
    "# Training\n",
    "\n",
    "learning_rate = 0.01\n",
    "n_iters = 100\n",
    "\n",
    "for epoch in range(n_iters):\n",
    "    y_predicted = forward(x)\n",
    "    l = loss(y, y_predicted)\n",
    "    \n",
    "    l.backward() # Here no need of gradient function as in numpy\n",
    "    \n",
    "    with torch.no_grad():\n",
    "        w -= learning_rate * w.grad\n",
    "    \n",
    "    w.grad.zero_()\n",
    "    \n",
    "    if(epoch % 1 == 0):\n",
    "        print(f\"epoch {epoch+1}: w = {w:.3f}, loss = {l:.8f}\")\n",
    "        \n",
    "print(f\"Prediction after training: f(5) = {forward( 5):.3f}\")"
   ]
  },
  {
   "cell_type": "markdown",
   "metadata": {},
   "source": [
    "Here we do the optimization manually there is need of many number of epochs"
   ]
  },
  {
   "cell_type": "markdown",
   "metadata": {},
   "source": []
  }
 ],
 "metadata": {
  "kernelspec": {
   "display_name": "Python 3",
   "language": "python",
   "name": "python3"
  },
  "language_info": {
   "codemirror_mode": {
    "name": "ipython",
    "version": 3
   },
   "file_extension": ".py",
   "mimetype": "text/x-python",
   "name": "python",
   "nbconvert_exporter": "python",
   "pygments_lexer": "ipython3",
   "version": "3.12.0"
  }
 },
 "nbformat": 4,
 "nbformat_minor": 2
}
