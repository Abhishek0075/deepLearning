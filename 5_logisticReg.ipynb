{
 "cells": [
  {
   "cell_type": "code",
   "execution_count": 1,
   "metadata": {},
   "outputs": [],
   "source": [
    "import torch\n",
    "import torch.nn as nn\n",
    "import numpy as np\n",
    "from sklearn import datasets\n",
    "from sklearn.preprocessing import StandardScaler\n",
    "from sklearn.model_selection import train_test_split"
   ]
  },
  {
   "cell_type": "code",
   "execution_count": 2,
   "metadata": {},
   "outputs": [],
   "source": [
    "bc = datasets.load_breast_cancer()\n",
    "X, y = bc.data, bc.target\n",
    "\n",
    "n_samples, n_features = X.shape\n",
    "\n",
    "X_train, X_test, y_train, y_test = train_test_split(X, y, test_size=0.2, random_state=1234)\n"
   ]
  },
  {
   "cell_type": "code",
   "execution_count": 8,
   "metadata": {},
   "outputs": [
    {
     "data": {
      "text/plain": [
       "array([[-0.36180827, -0.26521012, -0.31715703, -0.4671384 ,  1.8038261 ,\n",
       "         1.1817418 , -0.5168924 ,  0.10653677, -0.3900515 ,  1.3914014 ,\n",
       "         0.1437097 , -0.12075458,  0.16013007, -0.13255125, -0.58631635,\n",
       "        -0.12476339, -0.57865274,  0.10906824, -0.28187352, -0.1889237 ,\n",
       "        -0.25710148, -0.24033175, -0.2441722 , -0.36688232,  0.5448709 ,\n",
       "         0.24812607, -0.7108862 , -0.07967529, -0.5279873 ,  0.2506337 ],\n",
       "       [-0.8632675 ,  0.71560603, -0.85646015, -0.7966804 , -0.05863438,\n",
       "        -0.42846033, -0.5170174 , -0.6814299 ,  0.7947534 ,  0.38824034,\n",
       "        -0.45446828,  0.40088484, -0.43568602, -0.5215511 , -1.1630561 ,\n",
       "         0.27242032,  0.06745547, -0.2391592 ,  1.1130354 ,  0.35017294,\n",
       "        -0.8894322 ,  0.38469607, -0.8880358 , -0.7896815 , -1.042863  ,\n",
       "        -0.48243034, -0.5630865 , -0.7698024 ,  0.44312727, -0.20987332],\n",
       "       [-0.4334453 ,  0.32513896, -0.41286668, -0.5036265 ,  0.20285109,\n",
       "         0.31694695,  0.21135233,  0.29227546, -0.294086  ,  1.1295205 ,\n",
       "        -0.2249092 ,  0.98904204, -0.07426458, -0.45962194,  1.89094   ,\n",
       "         0.81758523,  0.5919433 ,  1.7726457 ,  0.13558097,  0.79235333,\n",
       "        -0.6160483 , -0.06358867, -0.5527837 , -0.62844604, -0.18230262,\n",
       "        -0.19243848, -0.26005065, -0.06601541, -1.1169426 ,  0.03294919],\n",
       "       [-0.4191179 ,  1.0409952 , -0.3903957 , -0.45018727,  1.1198314 ,\n",
       "         0.4183499 ,  0.2901153 ,  0.5126785 ,  0.33338076,  0.44261998,\n",
       "         0.0808017 , -0.10500037,  0.03461552, -0.0833376 ,  0.2272176 ,\n",
       "         0.05072359, -0.08203623,  0.18187943, -0.51223713, -0.07459281,\n",
       "         0.1686261 ,  1.2218156 ,  0.12969375,  0.01241171,  2.2444777 ,\n",
       "         0.9297309 ,  0.5802696 ,  0.86133814,  0.79716223,  1.0085181 ],\n",
       "       [-1.0237345 , -0.24196802, -1.0507923 , -0.9044208 , -1.0732265 ,\n",
       "        -1.1424901 , -0.8709506 , -0.9778875 ,  2.0570688 , -0.73369724,\n",
       "        -0.81572956,  2.2826378 , -0.79710746, -0.6329294 ,  1.1805574 ,\n",
       "        -0.6737791 , -0.39242154, -0.10145107, -0.40787354,  0.26272115,\n",
       "        -1.1148174 , -0.41064784, -1.1409715 , -0.9145147 , -1.5058445 ,\n",
       "        -1.1812612 , -1.1047398 , -1.4058971 , -0.33442616, -0.9030407 ]],\n",
       "      dtype=float32)"
      ]
     },
     "execution_count": 8,
     "metadata": {},
     "output_type": "execute_result"
    }
   ],
   "source": [
    "X_train.numpy()[0:5]"
   ]
  },
  {
   "cell_type": "code",
   "execution_count": 3,
   "metadata": {},
   "outputs": [],
   "source": [
    "sc = StandardScaler()\n",
    "X_train = sc.fit_transform(X_train)\n",
    "X_test = sc.transform(X_test)\n",
    "\n",
    "# Converting to tensors\n",
    "\n",
    "X_train = torch.from_numpy(X_train.astype(np.float32))\n",
    "X_test = torch.from_numpy(X_test.astype(np.float32))\n",
    "y_train = torch.from_numpy(y_train.astype(np.float32))\n",
    "y_test = torch.from_numpy(y_test.astype(np.float32))\n",
    "\n",
    "# Converting to column vectors\n",
    "y_train = y_train.view(y_train.shape[0], 1)\n",
    "y_test = y_test.view(y_test.shape[0], 1)"
   ]
  },
  {
   "cell_type": "code",
   "execution_count": 4,
   "metadata": {},
   "outputs": [],
   "source": [
    "# Linear model f = wx + b , sigmoid at the end\n",
    "\n",
    "class Model(nn.Module):\n",
    "    def __init__(self, n_input_features):\n",
    "        super(Model, self).__init__()\n",
    "        self.linear = nn.Linear(n_input_features, 1) # n_input_features is the number of features in the dataset and we have 1 output\n",
    "\n",
    "    def forward(self, x):\n",
    "        linearResult = self.linear(x)\n",
    "        y_pred = torch.sigmoid(linearResult)\n",
    "        return y_pred\n"
   ]
  },
  {
   "cell_type": "code",
   "execution_count": 5,
   "metadata": {},
   "outputs": [
    {
     "name": "stderr",
     "output_type": "stream",
     "text": [
      "c:\\Users\\itsab\\AppData\\Local\\Programs\\Python\\Python312\\Lib\\site-packages\\tqdm\\auto.py:21: TqdmWarning: IProgress not found. Please update jupyter and ipywidgets. See https://ipywidgets.readthedocs.io/en/stable/user_install.html\n",
      "  from .autonotebook import tqdm as notebook_tqdm\n"
     ]
    },
    {
     "name": "stdout",
     "output_type": "stream",
     "text": [
      "epoch: 10, loss = 0.5217\n",
      "epoch: 20, loss = 0.4412\n",
      "epoch: 30, loss = 0.3875\n",
      "epoch: 40, loss = 0.3490\n",
      "epoch: 50, loss = 0.3198\n",
      "epoch: 60, loss = 0.2968\n",
      "epoch: 70, loss = 0.2781\n",
      "epoch: 80, loss = 0.2626\n",
      "epoch: 90, loss = 0.2494\n",
      "epoch: 100, loss = 0.2380\n",
      "accuracy: 0.9035\n"
     ]
    }
   ],
   "source": [
    "\n",
    "model = Model(n_features)\n",
    "\n",
    "# 2) Loss and optimizer\n",
    "num_epochs = 100\n",
    "learning_rate = 0.01\n",
    "criterion = nn.BCELoss()\n",
    "optimizer = torch.optim.SGD(model.parameters(), lr=learning_rate)\n",
    "\n",
    "# 3) Training loop\n",
    "for epoch in range(num_epochs):\n",
    "    # Forward pass and loss\n",
    "    y_pred = model(X_train)\n",
    "    loss = criterion(y_pred, y_train)\n",
    "\n",
    "    # Backward pass and update\n",
    "    loss.backward()\n",
    "    optimizer.step()\n",
    "\n",
    "    # zero grad before new step\n",
    "    optimizer.zero_grad()\n",
    "\n",
    "    if (epoch+1) % 10 == 0:\n",
    "        print(f'epoch: {epoch+1}, loss = {loss.item():.4f}')\n",
    "\n",
    "\n",
    "with torch.no_grad():\n",
    "    \n",
    "    y_predicted = model(X_test)\n",
    "    y_predicted_cls = y_predicted.round()\n",
    "    acc = y_predicted_cls.eq(y_test).sum() / float(y_test.shape[0])\n",
    "    print(f'accuracy: {acc.item():.4f}')\n"
   ]
  }
 ],
 "metadata": {
  "kernelspec": {
   "display_name": "Python 3",
   "language": "python",
   "name": "python3"
  },
  "language_info": {
   "codemirror_mode": {
    "name": "ipython",
    "version": 3
   },
   "file_extension": ".py",
   "mimetype": "text/x-python",
   "name": "python",
   "nbconvert_exporter": "python",
   "pygments_lexer": "ipython3",
   "version": "3.12.0"
  }
 },
 "nbformat": 4,
 "nbformat_minor": 2
}
